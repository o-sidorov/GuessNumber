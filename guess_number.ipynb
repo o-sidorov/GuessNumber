{
 "cells": [
  {
   "cell_type": "code",
   "execution_count": 7,
   "metadata": {},
   "outputs": [
    {
     "name": "stdout",
     "output_type": "stream",
     "text": [
      "1 - 7 times\n",
      "2 --- 26 times\n",
      "3 ----- 42 times\n",
      "4 --------- 90 times\n",
      "5 --------------- 147 times\n",
      "6 =============================== 323 times\n",
      "7 ----------------------------------- 365 times\n",
      "Average number of tries is 6\n",
      "\n",
      "[1; 2**10]\n",
      "Average number of tries is 9\n",
      "\n",
      "[1; 2**11]\n",
      "Average number of tries is 10\n",
      "\n",
      "[1; 2**12]\n",
      "Average number of tries is 11\n",
      "\n",
      "[1; 2**13]\n",
      "Average number of tries is 12\n",
      "\n",
      "[1; 2**14]\n",
      "Average number of tries is 13\n",
      "\n",
      "[1; 2**15]\n",
      "Average number of tries is 14\n",
      "\n",
      "[1; 2**16]\n",
      "Average number of tries is 15\n",
      "\n",
      "[1; 2**17]\n",
      "Average number of tries is 16\n",
      "\n",
      "[1; 2**18]\n",
      "Average number of tries is 17\n",
      "\n",
      "[1; 2**19]\n",
      "Average number of tries is 18\n",
      "\n",
      "[1; 2**20]\n",
      "Average number of tries is 19\n"
     ]
    }
   ],
   "source": [
    "from guess_number import guess_number\n",
    "from numpy import mean, random\n",
    "from math import log2, ceil\n",
    "\n",
    "def average_int_result(func, repeat: int=1000, print_chart: bool=True, bar_len: int=35):\n",
    "    def dec_func(*args, **kwargs):\n",
    "        results = [func(*args, **kwargs) for i in range(repeat)]\n",
    "        avrg_res = round(mean(results))\n",
    "        \n",
    "        if print_chart:\n",
    "            # Printing a simple chart\n",
    "            min_res = min(results) # lower bound of chart value axis\n",
    "            max_res = max(results) # upper bound of chart value axis\n",
    "            # Creating a dictionary:\n",
    "            # keys are results returned by func();\n",
    "            # values are numbers of times each result was returned.\n",
    "            results = {i: results.count(i) \n",
    "                        for i in range(min_res, max_res+1)}\n",
    "            max_val = max(results.values()) # count of the most frequent result\n",
    "            \n",
    "            for result in results.items():\n",
    "                if result[1]:\n",
    "                    chart_ch = '=' if result[0] == avrg_res else '-'\n",
    "                    indent = ' '*(len(str(max_res)) - len(str(result[0])))\n",
    "                    chart_bar = indent + chart_ch * ceil(result[1]/max_val * bar_len)\n",
    "                    print(result[0], chart_bar, f\"{result[1]} times\")\n",
    "                \n",
    "        return avrg_res\n",
    "    return dec_func\n",
    "\n",
    "guess_number_chart = average_int_result(guess_number, print_chart=True)\n",
    "print(f\"Average number of tries is {guess_number_wrap(1,100)}\")\n",
    "\n",
    "guess_number = average_int_result(guess_number, print_chart=False)\n",
    "for hi in [2**i for i in range(10,21)]:\n",
    "    print(f\"\\n[1; 2**{int(log2(hi))}]\")\n",
    "    print(f\"Average number of tries is {guess_number(1,hi)}\")"
   ]
  }
 ],
 "metadata": {
  "kernelspec": {
   "display_name": "Python 3",
   "language": "python",
   "name": "python3"
  },
  "language_info": {
   "codemirror_mode": {
    "name": "ipython",
    "version": 3
   },
   "file_extension": ".py",
   "mimetype": "text/x-python",
   "name": "python",
   "nbconvert_exporter": "python",
   "pygments_lexer": "ipython3",
   "version": "3.11.0"
  },
  "orig_nbformat": 4,
  "vscode": {
   "interpreter": {
    "hash": "aee8b7b246df8f9039afb4144a1f6fd8d2ca17a180786b69acc140d282b71a49"
   }
  }
 },
 "nbformat": 4,
 "nbformat_minor": 2
}
