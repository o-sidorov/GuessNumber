{
 "cells": [
  {
   "cell_type": "code",
   "execution_count": 30,
   "metadata": {},
   "outputs": [
    {
     "name": "stdout",
     "output_type": "stream",
     "text": [
      "\n",
      "[1; 100]\n",
      "Average number of tries is 13\n",
      "\n",
      "[1; 1000]\n",
      "Average number of tries is 16\n",
      "\n",
      "[1; 10000]\n",
      "Average number of tries is 15\n",
      "\n",
      "[1; 100000]\n",
      "Average number of tries is 25\n"
     ]
    }
   ],
   "source": [
    "from guess_number import guess_number\n",
    "from numpy import mean, random\n",
    "\n",
    "for hi in [10**i for i in range(2,6)]:\n",
    "    print(f\"\\n[1; {hi}]\")\n",
    "    print(f\"Average number of tries is {guess_number(1, hi)}\")"
   ]
  }
 ],
 "metadata": {
  "kernelspec": {
   "display_name": "Python 3",
   "language": "python",
   "name": "python3"
  },
  "language_info": {
   "codemirror_mode": {
    "name": "ipython",
    "version": 3
   },
   "file_extension": ".py",
   "mimetype": "text/x-python",
   "name": "python",
   "nbconvert_exporter": "python",
   "pygments_lexer": "ipython3",
   "version": "3.11.0"
  },
  "orig_nbformat": 4,
  "vscode": {
   "interpreter": {
    "hash": "aee8b7b246df8f9039afb4144a1f6fd8d2ca17a180786b69acc140d282b71a49"
   }
  }
 },
 "nbformat": 4,
 "nbformat_minor": 2
}
