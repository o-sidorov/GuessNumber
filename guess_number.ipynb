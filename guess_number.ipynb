{
 "cells": [
  {
   "cell_type": "code",
   "execution_count": 11,
   "metadata": {},
   "outputs": [
    {
     "name": "stdout",
     "output_type": "stream",
     "text": [
      "\n",
      "1 <= number <= 100\n",
      "01 - 0012 -\n",
      "02 - 0014 -\n",
      "03 - 0034 ---\n",
      "04 - 0067 -----\n",
      "05 - 0186 ---------------\n",
      "06 - 0312 =========================\n",
      "07 - 0375 ------------------------------\n",
      "Average number of tries is 6\n",
      "\n",
      "1 <= number <= 1000\n",
      "01 - 0001 \n",
      "02 - 0005 \n",
      "03 - 0008 \n",
      "04 - 0011 -\n",
      "05 - 0019 -\n",
      "06 - 0038 --\n",
      "07 - 0063 ----\n",
      "08 - 0132 --------\n",
      "09 - 0243 ===============\n",
      "10 - 0480 ------------------------------\n",
      "Average number of tries is 9\n",
      "\n",
      "1 <= number <= 10000\n",
      "02 - 0001 \n",
      "03 - 0000 \n",
      "04 - 0000 \n",
      "05 - 0000 \n",
      "06 - 0004 \n",
      "07 - 0002 \n",
      "08 - 0015 -\n",
      "09 - 0028 --\n",
      "10 - 0044 ---\n",
      "11 - 0095 ------\n",
      "12 - 0202 ==============\n",
      "13 - 0440 ------------------------------\n",
      "14 - 0169 ------------\n",
      "Average number of tries is 12\n"
     ]
    }
   ],
   "source": [
    "from guess_number import guess_number\n",
    "from numpy import random, mean\n",
    "\n",
    "def fix_len_num(num: int, length: int) -> str:\n",
    "    num = str(num)\n",
    "    return '0'*(length-len(num)) + num\n",
    "\n",
    "def print_tabs(*args, tabs: tuple=None):\n",
    "    for arg in args:\n",
    "        print(arg)\n",
    "\n",
    "def average_int_result(func, repeat=1000, print_chart=False):\n",
    "    \"\"\"Decorator for \n",
    "\n",
    "    Args:\n",
    "        func (_type_): _description_\n",
    "        repeat (int, optional): _description_. Defaults to 10000.\n",
    "        print_chart (bool, optional): _description_. Defaults to False.\n",
    "    \"\"\"\n",
    "    def decorator(func):\n",
    "        def dec_func(*args, **kwargs):\n",
    "            results = [func(*args, **kwargs) for i in range(repeat)]\n",
    "            avrg_res = round(mean(results))\n",
    "            \n",
    "            if print_chart:\n",
    "                # Printing a simple chart\n",
    "                min_res = min(results) # lower bound of chart value axis\n",
    "                max_res = max(results) # upper bound of chart value axis\n",
    "                # Creating a dictionary:\n",
    "                # keys are results returned by func();\n",
    "                # values are numbers of times each result was returned.\n",
    "                results = {i: results.count(i)\n",
    "                            for i in range(min_res, max_res+1)}\n",
    "                max_val = max(results.values()) # count of the most frequent result\n",
    "                for result in results.items():\n",
    "                    print(fix_len_num(result[0], 2), '-',\n",
    "                            fix_len_num(result[1], 4), \n",
    "                            ('=' if result[0] == avrg_res else '-') \n",
    "                            * round(result[1]/max_val*30)) \n",
    "            return avrg_res\n",
    "        return dec_func\n",
    "    return decorator(func)\n",
    "\n",
    "guess_number = average_int_result(guess_number, print_chart=True)\n",
    "for hi in [10**i for i in range(2,5)]:\n",
    "    print(f\"\\n1 <= number <= {hi}\")\n",
    "    print(f\"Average number of tries is {guess_number(1, hi, bnr_srch=True)}\")"
   ]
  }
 ],
 "metadata": {
  "kernelspec": {
   "display_name": "Python 3",
   "language": "python",
   "name": "python3"
  },
  "language_info": {
   "codemirror_mode": {
    "name": "ipython",
    "version": 3
   },
   "file_extension": ".py",
   "mimetype": "text/x-python",
   "name": "python",
   "nbconvert_exporter": "python",
   "pygments_lexer": "ipython3",
   "version": "3.11.0"
  },
  "orig_nbformat": 4,
  "vscode": {
   "interpreter": {
    "hash": "aee8b7b246df8f9039afb4144a1f6fd8d2ca17a180786b69acc140d282b71a49"
   }
  }
 },
 "nbformat": 4,
 "nbformat_minor": 2
}
