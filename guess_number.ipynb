{
 "cells": [
  {
   "attachments": {},
   "cell_type": "markdown",
   "metadata": {},
   "source": [
    "# \"Guess the Number\"\n",
    "Let's play game in which Computer finds out the number we have guessed.\n",
    "\n",
    "## The game rules:\n",
    "\n",
    "* Initially Computer gets the lower and the upper bounds of the range hidden number belongs to. \n",
    "* Computer predicts numbers until it guesses our number, which is always integer by the way. \n",
    "* After every wrong try Computer will be told if predicted number is more or if it's less than the one we made.\n",
    "\n",
    "Thanks to game rules Computer has unlimited tries so it has no chance to loose. \n",
    "\n",
    "So the result of the game is a number of tries Computer will take.\n",
    "\n",
    "## Game algorythm \n",
    "Game algoryth is placed in the only function – **guess_number()** from [guess_number.py](https://github.com/o-sidorov/GuessNumber/blob/master/guess_number.py) module:"
   ]
  },
  {
   "cell_type": "code",
   "execution_count": 1,
   "metadata": {},
   "outputs": [],
   "source": [
    "from numpy import random\n",
    "\n",
    "def guess_number(lo: int=1, hi: int=100, number: int=None, bnr_srch: bool=True) -> int:\n",
    "    \"\"\"\n",
    "    Computer will try to guess hidden number.\n",
    "    It has got unlimited tries. \n",
    "    The result is the number tries it will use to find out the number\n",
    "    \n",
    "    Args:\n",
    "        lo (int, optional): lower bound of the range the number should belong to. \n",
    "        Defaults to 1.\n",
    "        \n",
    "        hi (int, optional): higher bound of the range the number should belong to. \n",
    "        Defaults to 100.\n",
    "       \n",
    "        number (int): guessed number.\n",
    "        Defaults to None (randint(lo, hi+1) will give the number in this case)\n",
    "        \n",
    "        bnr_srch (bool, optional): if True binary search algorythm will be used\n",
    "        to search the number, othervice Computer will use randint() function.\n",
    "        Defaults to True.\n",
    "\n",
    "    Returns:\n",
    "        int: number of tries Computer have used to guess the number.\n",
    "    \"\"\"\n",
    "    # Check arguments values:\n",
    "    # lo, hi – int; number – None or int\n",
    "    if not ((number == None or type(number) == int) and type(lo) == int and type(hi) == int):\n",
    "        raise ValueError(\"number, lo, hi values should be integer\")\n",
    "    if lo > hi:\n",
    "        raise ValueError(\"lo can't be more than hi\")\n",
    "    if not number:\n",
    "        number = random.randint(lo, hi+1)\n",
    "    # Number value should be in range [lo, hi]\n",
    "    if not lo <= number <= hi:\n",
    "        raise ValueError(\"number should be in range from lo to hi\")\n",
    "    \n",
    "    # Now let Computer guess the number\n",
    "    count = 1\n",
    "    while True:\n",
    "        if bnr_srch: # if use binary search\n",
    "            guess = (lo+hi) // 2\n",
    "        else: # if use random\n",
    "            guess = random.randint(lo, hi+1)\n",
    "            \n",
    "        if guess == number:\n",
    "            return count\n",
    "        # Let's tell the Computer bounds of next range to guess\n",
    "        elif guess < number:\n",
    "            lo = guess+1\n",
    "        else:\n",
    "            hi = guess-1\n",
    "        count += 1"
   ]
  },
  {
   "attachments": {},
   "cell_type": "markdown",
   "metadata": {},
   "source": [
    "Number range is from 1 to 100 by default. It can be changed with *lo* and *hi* argument.\n",
    "\n",
    "Guessed number is random by default but can be set with *number* argument. \n",
    "\n",
    "In case of argument *bnr_srch=True* the algorithm is an ordinary binary search. Otherwise the Computer tries random values from given range to guess the number.\n",
    "\n",
    "Let's compare results of both cases.\n",
    "\n",
    "## Results\n",
    "Since **GuessNumber()** result depends on random values we need to collect and process its multiple return values to evaluate our algorythm.\n",
    "\n",
    "We use wrapper function **average_int_result()** for this purpose:"
   ]
  },
  {
   "cell_type": "code",
   "execution_count": 2,
   "metadata": {},
   "outputs": [],
   "source": [
    "from numpy import mean, random\n",
    "from math import ceil\n",
    "from collections import Counter\n",
    "\n",
    "def average_int_result(func, repeat: int=1000, print_chart: bool=True, bar_len: int=35):\n",
    "    \"\"\"\n",
    "    Wrapper for collecting and processing function multiple run results.\n",
    "    This decorator is useless if the wrapped function returns the same result \n",
    "    every time if arguments are the same. \n",
    "    Otherwise, use this decorator to calculate the average return value \n",
    "    of multiple function runs. \n",
    "    In addition, decorator can be used to output a simple diagram \n",
    "    to visualize the frequency of values returned by the wrapped function.\n",
    "\n",
    "    Args:\n",
    "        func (_type_): wrapped function\n",
    "        \n",
    "        repeat (int, optional): number of function runs. Defaults to 1000.\n",
    "        \n",
    "        print_chart (bool, optional): if True chart will be printed. Defaults to True.\n",
    "        \n",
    "        bar_len (int, optional): lenght of the longest chart bar. Defaults to 35.\n",
    "    \"\"\"\n",
    "    def dec_func(*args, **kwargs):\n",
    "        results = [func(*args, **kwargs) for i in range(repeat)]\n",
    "        avrg_res = round(mean(results))\n",
    "        \n",
    "        if print_chart:\n",
    "            # Printing a simple chart\n",
    "            min_res = min(results) # lower bound of chart value axis\n",
    "            max_res = max(results) # upper bound of chart value axis\n",
    "            # Creating a dictionary:\n",
    "            # keys are results returned by func();\n",
    "            # values are numbers of times each result was returned.\n",
    "            results = {i: results.count(i) \n",
    "                        for i in range(min_res, max_res+1)}\n",
    "            max_val = max(results.values()) # count of the most frequent result\n",
    "            \n",
    "            for result in results.items():\n",
    "                if result[1]: # Only non-zero bars are printed\n",
    "                    # Mark the average value bar with different symbol\n",
    "                    chart_ch = '=' if result[0] == avrg_res else '-'\n",
    "                    indent = ' '*(len(str(max_res)) - len(str(result[0])))\n",
    "                    chart_bar = indent + chart_ch * ceil(result[1]/max_val * bar_len)\n",
    "                    print(result[0], chart_bar, f\"{result[1]} times\")\n",
    "                \n",
    "        return avrg_res\n",
    "    return dec_func"
   ]
  },
  {
   "attachments": {},
   "cell_type": "markdown",
   "metadata": {},
   "source": [
    "**average_int_result()** is a decorator which launches wrapped function 1000 times by default and calculates average result value.\n",
    "It's also possible to output a simple chart showing result frequency distribution (if set *print_chart=True*).\n",
    "\n",
    "### Random guesses\n",
    "First play with random guesses (binary search turned off):"
   ]
  },
  {
   "cell_type": "code",
   "execution_count": 3,
   "metadata": {},
   "outputs": [
    {
     "name": "stdout",
     "output_type": "stream",
     "text": [
      "1  --- 9 times\n",
      "2  ----- 19 times\n",
      "3  -------- 34 times\n",
      "4  ---------------- 68 times\n",
      "5  --------------------------- 115 times\n",
      "6  -------------------------------- 139 times\n",
      "7  =================================== 154 times\n",
      "8  --------------------------------- 142 times\n",
      "9  ------------------------ 105 times\n",
      "10 --------------------- 89 times\n",
      "11 -------------- 60 times\n",
      "12 ------- 28 times\n",
      "13 ----- 20 times\n",
      "14 --- 13 times\n",
      "15 - 1 times\n",
      "16 - 4 times\n",
      "Average number of random tries is 7\n"
     ]
    }
   ],
   "source": [
    "guess_number_chart = average_int_result(guess_number, print_chart=True)\n",
    "random.seed(1)\n",
    "print(f\"Average number of random tries is {guess_number_chart(bnr_srch=False)}\")\n"
   ]
  },
  {
   "attachments": {},
   "cell_type": "markdown",
   "metadata": {},
   "source": [
    "### Binary search\n",
    "Now play using binary search:"
   ]
  },
  {
   "cell_type": "code",
   "execution_count": 4,
   "metadata": {},
   "outputs": [
    {
     "name": "stdout",
     "output_type": "stream",
     "text": [
      "1 - 10 times\n",
      "2 --- 28 times\n",
      "3 ---- 38 times\n",
      "4 ------- 74 times\n",
      "5 ------------- 138 times\n",
      "6 ============================== 326 times\n",
      "7 ----------------------------------- 386 times\n",
      "Average number of tries using binary search is 6\n"
     ]
    }
   ],
   "source": [
    "print(f\"Average number of tries using binary search is {guess_number_chart(bnr_srch=True)}\")"
   ]
  },
  {
   "attachments": {},
   "cell_type": "markdown",
   "metadata": {},
   "source": [
    "Average number of tries using binary search is 6, and average number of random tries is 7.\n",
    "Results are close. Let's see the difference with wider number range, say from 1 to 1 000 000."
   ]
  },
  {
   "cell_type": "code",
   "execution_count": 5,
   "metadata": {},
   "outputs": [
    {
     "name": "stdout",
     "output_type": "stream",
     "text": [
      "Binary search off: 26\n",
      "Binary search on: 19\n"
     ]
    }
   ],
   "source": [
    "guess_number_no_chart = average_int_result(guess_number, print_chart=False)\n",
    "print(f\"Binary search off: {guess_number_no_chart(hi=1000000, bnr_srch=False)}\")\n",
    "print(f\"Binary search on: {guess_number_no_chart(hi=1000000, bnr_srch=True)}\")"
   ]
  },
  {
   "attachments": {},
   "cell_type": "markdown",
   "metadata": {},
   "source": [
    "**As expected using binary search helps the Computer to guess the number much faster compared to random predictions.**"
   ]
  }
 ],
 "metadata": {
  "kernelspec": {
   "display_name": "Python 3",
   "language": "python",
   "name": "python3"
  },
  "language_info": {
   "codemirror_mode": {
    "name": "ipython",
    "version": 3
   },
   "file_extension": ".py",
   "mimetype": "text/x-python",
   "name": "python",
   "nbconvert_exporter": "python",
   "pygments_lexer": "ipython3",
   "version": "3.11.0"
  },
  "orig_nbformat": 4,
  "vscode": {
   "interpreter": {
    "hash": "aee8b7b246df8f9039afb4144a1f6fd8d2ca17a180786b69acc140d282b71a49"
   }
  }
 },
 "nbformat": 4,
 "nbformat_minor": 2
}
