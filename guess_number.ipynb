{
 "cells": [
  {
   "cell_type": "code",
   "execution_count": null,
   "metadata": {},
   "outputs": [],
   "source": [
    "from guess_number import guess_number\n",
    "from numpy import random, mean\n",
    "\n",
    "def fix_len_num(num: int, length: int) -> str:\n",
    "    num = str(num)\n",
    "    return '0'*(length-len(num)) + num\n",
    "\n",
    "def print_tabs(*args, tabs: tuple=None):\n",
    "    for arg in args:\n",
    "        print(arg)\n",
    "\n",
    "def average_int_result(func, repeat=10000, print_chart=False):\n",
    "    \"\"\"Decorator for \n",
    "\n",
    "    Args:\n",
    "        func (_type_): _description_\n",
    "        repeat (int, optional): _description_. Defaults to 10000.\n",
    "        print_chart (bool, optional): _description_. Defaults to False.\n",
    "    \"\"\"\n",
    "    def decorator(func):\n",
    "        def dec_func(*args, **kwargs):\n",
    "            results = [func(*args, **kwargs) for i in range(repeat)]\n",
    "            avrg_res = round(mean(results))\n",
    "            \n",
    "            if print_chart:\n",
    "                # Printing a simple chart\n",
    "                min_res = min(results) # lower bound of chart value axis\n",
    "                max_res = max(results) # upper bound of chart value axis\n",
    "                # Creating a dictionary:\n",
    "                # keys are results returned by func();\n",
    "                # values are numbers of times each result was returned.\n",
    "                results = {i: results.count(i)\n",
    "                            for i in range(min_res, max_res+1)}\n",
    "                max_val = max(results.values()) # count of the most frequent result\n",
    "                for result in results.items():\n",
    "                    print(fix_len_num(result[0], 2), '-',\n",
    "                            fix_len_num(result[1], 4), \n",
    "                            ('=' if result[0] == avrg_res else '-') \n",
    "                            * round(result[1]/max_val*30)) \n",
    "            return avrg_res\n",
    "        return dec_func\n",
    "    return decorator(func)\n",
    "\n",
    "guess_number = average_int_result(guess_number, print_chart=True)\n",
    "for hi in [10**i for i in range(2,6)]:\n",
    "    print(f\"\\n1 <= number <= {hi}\")\n",
    "    print(f\"Average number of tries is {guess_number(1, hi, bnr_srch=False)}\")\n"
   ]
  }
 ],
 "metadata": {
  "kernelspec": {
   "display_name": "Python 3",
   "language": "python",
   "name": "python3"
  },
  "language_info": {
   "codemirror_mode": {
    "name": "ipython",
    "version": 3
   },
   "file_extension": ".py",
   "mimetype": "text/x-python",
   "name": "python",
   "nbconvert_exporter": "python",
   "pygments_lexer": "ipython3",
   "version": "3.11.0"
  },
  "orig_nbformat": 4,
  "vscode": {
   "interpreter": {
    "hash": "aee8b7b246df8f9039afb4144a1f6fd8d2ca17a180786b69acc140d282b71a49"
   }
  }
 },
 "nbformat": 4,
 "nbformat_minor": 2
}
